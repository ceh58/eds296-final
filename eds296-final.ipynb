{
 "cells": [
  {
   "cell_type": "markdown",
   "id": "f77db3d1-31cf-4644-8c8e-2cabc3f8e62a",
   "metadata": {},
   "source": [
    "# EDS296: Final Mini-Project\n",
    "### **Authors**\n",
    "\n",
    "Carmen Hoyt choyt@ucsb.edu\n",
    "\n",
    "Ryan Green **EMAIL**\n",
    "\n",
    "Rachel Swick **EMAIL**\n",
    "\n",
    "### [GitHub Repository](https://github.com/ceh58/eds296-final)"
   ]
  },
  {
   "cell_type": "markdown",
   "id": "6497fb48-84b8-4dc5-9aa7-4b33b6d31ac0",
   "metadata": {},
   "source": [
    "## Introductcion"
   ]
  },
  {
   "cell_type": "markdown",
   "id": "ce9384c4-9dae-40dc-a5d5-c67efe22376a",
   "metadata": {},
   "source": [
    "1. Choose a spatial region you find interesting, for whatever reason.\n",
    "\n",
    "*Write a few paragraphs about this place! Include a relevant graphic or two (can be an\n",
    "infographic or map from the Internet) showing the geographical and climatological context\n",
    "of your region. What’s going on there? What types of extreme events are relevant? How\n",
    "might you expect that climate change impacts could be felt by human or natural systems?*"
   ]
  },
  {
   "cell_type": "markdown",
   "id": "509904c0-7281-461b-a6d0-5ef98425c926",
   "metadata": {},
   "source": [
    "**Region**: Indonesia\n",
    "\n",
    "**Bounding box**: [92, 146, -15, 10]\n",
    "\n",
    "**Climate**: \n",
    "\n",
    "Indonesia has a tropical climate, experiencing two seasons: wet (November-April) and dry (May-October).  It is a key part of the Coral Triangle, a region with at least 500 species of important reef-building corals. Corals are highly sensitive to changes in water temperature, and will bleach (expel their zooxanthellae) after prolonged exposure to warmer temperatrues (or changes of greater than 1°C). I would expect climate change to drive ocean temperatures up, leading to widespread bleaching and mass coral loss. Coral loss has many implications for the oceans and the people that depend on them, such as loss in food source, coastal protection, and tourism. \n",
    "\n",
    "Indonesia's first mass bleacing event was recorded in [1997-1998](https://indonesia.wcs.org/Initiatives/Marine/Coral-Bleaching.aspx). Since then, there have also been bleaching events in [2016-2017 and 2021](https://theseapeople.org/2024/12/18/coral-bleaching-raja-ampat/). \n",
    "\n",
    "<img src=\"coral_triangle.png\" alt=\"Coral Triangle\" width=\"75%\">\n",
    "\n",
    "Thus, I am interested in looking at historical (1900-1930) and late century (1995-2025) average sea surface temperatures. I chose the late 20th century time period to cover the span of the mass bleaching events to see if there was a significant change (increase) in ocean temperature as compared to the historical temperature. \n",
    "\n",
    "**Write about how affected by el nino/la nina!!**"
   ]
  },
  {
   "cell_type": "markdown",
   "id": "7eba22e8-0cf0-4bc8-b28d-80e45f446388",
   "metadata": {},
   "source": [
    "## Metrics Definition"
   ]
  },
  {
   "cell_type": "markdown",
   "id": "27f46557-1b82-4039-b201-5b8ccf190f62",
   "metadata": {},
   "source": [
    "2. Define metrics you plan to use to assess climate change impacts in your region.\n",
    "\n",
    "*Given the context you just provided in item 1, decide on two different ‘metrics’, or quantities\n",
    "to be calculated from climate model output, that will help you quantify climate change\n",
    "impacts. Some examples of useful metrics might be:*\n",
    "\n",
    "- Regional averages (to let you plot time series)\n",
    "- Time averages (to let you plot maps)\n",
    "- Correlation patterns\n",
    "\n",
    "*You’ll also need to decide on a set of variables to include, from which to calculate the\n",
    "metrics above. This could be temperature, precipitation, wind, or anything else you can find\n",
    "that you think is helpful*"
   ]
  },
  {
   "cell_type": "markdown",
   "id": "3c2b4b30-e665-4a6b-94ec-d0bc3400c866",
   "metadata": {},
   "source": [
    "**Metrics**:\n",
    "\n",
    "1. Regional averages\n",
    "\n",
    "This will allow us to quantify climate change impacts over time regarding changes in 'pr' and 'tos'. Are they seeing similar trends? \n",
    "\n",
    "2. Correlation patterns\n",
    "\n",
    "Correlation: quantifies the relationship between two variables. Its value can range from -1, where the quantities are perfectly but negatively related, to +1, where the relationship is perfect and positive.\n",
    "\n",
    "Regression: How quickly are changes in 'pr' and 'tos' happening (rate of change)??\n",
    "\n",
    "**Variables**:\n",
    "\n",
    "- \"pr\"\n",
    "\n",
    "Since Indonesia has wet and dry seasons, precipitation can be an important indicator for climate change impacts.\n",
    "\n",
    "- \"tas\"\n",
    "\n",
    "Additionally, much of Indonesia's economy is reliant upon the ocean. Changes in surface temperature could have detrimental effects.\n",
    "\n",
    "**FIX THIS**\n"
   ]
  },
  {
   "cell_type": "markdown",
   "id": "6a235a63-8634-467f-8b57-5f0c178b9859",
   "metadata": {},
   "source": [
    "## Data I/O"
   ]
  },
  {
   "cell_type": "markdown",
   "id": "6f25e46b-3e66-4ee2-99f1-777ed9356f90",
   "metadata": {},
   "source": [
    "3. Extract necessary climate (historical plus projection) data for that region.\n",
    "\n",
    "Write code to extract the variables you need to do your calculations, and to store these in\n",
    "local memory in a way that makes it easy to compute the metrics you’ve chosen. For\n",
    "instance: generating an xarray object containing all ensemble members for your chosen set of\n",
    "climate models!\n",
    "Note: I recommend choosing a subset of climate models and scenarios to use for this\n",
    "analysis, since you likely won’t be able to look at everything. Picking something like 2-3\n",
    "different climate models and 1-2 different scenarios to work with should let you have a good\n",
    "range of estimates, without putting TOO much demand on your laptop’s memory!\n"
   ]
  },
  {
   "cell_type": "markdown",
   "id": "1eb77a0c-a39f-4fde-8074-62edc31a8c7c",
   "metadata": {},
   "source": [
    "**Climate models**:\n",
    "\n",
    "- CESM2\n",
    "\n",
    "**ADD DESCRIPTION**\n",
    "\n",
    "- ACCESS-CM2\n",
    "\n",
    "The [ACCESS-CM2 (Australian Community Climate and Earth-System Simulator Coupled Model version 2)](https://research.csiro.au/access/about/cm2/) is a climate model developed by the Australian Bureau of Meteorology and CSIRO for participation in the CMIP6 (Coupled Model Intercomparison Project Phase 6). Ocean variables are modeled using MOM5 (Modular Ocean Model version 5) at 1 x 1 degree resolution.\n",
    "\n",
    "**Scenarios**:\n",
    "\n",
    "- SSP370: 'Regional Rivalry' \n",
    "\n",
    "The SSP3-7.0 scenario (Shared Socioeconomic Pathway 3 with a radiative forcing of 7.0 W/m² by 2100) is one of the future climate projections used in CMIP6. It represents a high-emissions pathway, with CO² emissions projected to double by 2100. This can lead to significant challenges in both mitigation and adaptation.\n",
    "\n",
    "- SSP585: 'Fossil-Fueled Development'\n",
    "\n",
    "The SSP5-8.5 scenario (Shared Socioeconomic Pathway 5 with a radiative forcing of 8.5 W/m² by 2100) is the highest-emissions pathway in the CMIP6 framework and represents a fossil-fueled development future. It predicts very high GHG emissions, with CO2 emissions tripling by 2075. This scenario provides insight into the upper range of climate system response to greenhouse gas forcing, useful for stress-testing infrastructure, understanding tipping points, and preparing for high-impact outcomes.\n"
   ]
  },
  {
   "cell_type": "markdown",
   "id": "d69f88e8-2ca9-44c8-b5ab-2d0d5561b57c",
   "metadata": {},
   "source": [
    "### Import Packages"
   ]
  },
  {
   "cell_type": "code",
   "execution_count": 1,
   "id": "308743b8-d6e4-4976-a58e-29864565f8e9",
   "metadata": {
    "tags": []
   },
   "outputs": [
    {
     "name": "stderr",
     "output_type": "stream",
     "text": [
      "ERROR 1: PROJ: proj_create_from_database: Open of /opt/anaconda3/envs/eds296-stevenson/share/proj failed\n"
     ]
    }
   ],
   "source": [
    "import xarray as xr\n",
    "import numpy as np\n",
    "import matplotlib.pyplot as plt\n",
    "import intake\n",
    "import s3fs\n",
    "import cartopy.crs as ccrs\n",
    "import cartopy.feature as cfeature\n",
    "import scipy.stats as stats"
   ]
  },
  {
   "cell_type": "markdown",
   "id": "463b57c8-be3a-44f5-ae70-103fb77d8935",
   "metadata": {},
   "source": [
    "### Access the CMIP6 Database"
   ]
  },
  {
   "cell_type": "code",
   "execution_count": 2,
   "id": "91ea9348-056a-40ce-8c3d-ff40610bd2bb",
   "metadata": {
    "tags": []
   },
   "outputs": [],
   "source": [
    "# Open the CMIP6 data catalog, store as a variable\n",
    "catalog = intake.open_esm_datastore('https://cmip6-pds.s3.amazonaws.com/pangeo-cmip6.json')"
   ]
  },
  {
   "cell_type": "markdown",
   "id": "26c66d76-1243-4a0a-a0dc-611cb874dc7f",
   "metadata": {},
   "source": [
    "#### CESM2 Model"
   ]
  },
  {
   "cell_type": "markdown",
   "id": "81210b4e-ff1b-401e-967e-f9c110c9e8e0",
   "metadata": {},
   "source": [
    "##### Search Catalog"
   ]
  },
  {
   "cell_type": "markdown",
   "id": "a7725355-d6e2-497b-8538-3c9e33a8c5a7",
   "metadata": {},
   "source": [
    "##### Store 'tas'"
   ]
  },
  {
   "cell_type": "markdown",
   "id": "d1cd6467-4236-465c-9ece-f8824cc647dc",
   "metadata": {},
   "source": [
    "##### Store 'tas'"
   ]
  },
  {
   "cell_type": "markdown",
   "id": "d39786b0-b89a-4c7a-bcd2-7c754ba68898",
   "metadata": {},
   "source": [
    "##### Store 'pr'"
   ]
  },
  {
   "cell_type": "markdown",
   "id": "ae960b84-f0ec-4641-850a-8af0b2d06c89",
   "metadata": {
    "tags": []
   },
   "source": [
    "#### Conclusions"
   ]
  },
  {
   "cell_type": "markdown",
   "id": "6bb0d030-72b2-487e-97db-367788b4a4ba",
   "metadata": {},
   "source": [
    "This map is showing us locations where the relationshp between precipitation and ocean surface temperature (value can range from -1, where the quantities are perfectly but negatively related, to +1, where the relationship is perfect and positive).\n",
    "\n",
    "(the dots indicate areas where significance is above 90%).\n",
    "\n",
    "Runoff from rainfall can smother coral reefs with sediment. "
   ]
  },
  {
   "cell_type": "markdown",
   "id": "92d92155-bdfe-489d-af4b-97c0e93d56c8",
   "metadata": {},
   "source": [
    "#### ACCESS-CM2 Model"
   ]
  },
  {
   "cell_type": "markdown",
   "id": "1286bef9-4944-457a-9076-0b86d3f72661",
   "metadata": {},
   "source": [
    "##### Specify Model"
   ]
  },
  {
   "cell_type": "markdown",
   "id": "47faf6d9-394d-40a2-8335-aedf15d531d4",
   "metadata": {},
   "source": [
    "##### Store 'tos'"
   ]
  },
  {
   "cell_type": "markdown",
   "id": "ee323012-1b90-48a3-9584-f8a1e1410419",
   "metadata": {},
   "source": [
    "##### Store 'pr'"
   ]
  },
  {
   "cell_type": "markdown",
   "id": "92c849e3-de95-4ad6-95d4-1cdc5e0f3d24",
   "metadata": {},
   "source": [
    "##### Store Results"
   ]
  },
  {
   "cell_type": "markdown",
   "id": "2e1cfa57-3a30-445a-98d4-f0556e4c294d",
   "metadata": {},
   "source": [
    "## Metrics Computation"
   ]
  },
  {
   "cell_type": "markdown",
   "id": "e5ac8e86-5902-474b-9db6-c2f468a98b81",
   "metadata": {},
   "source": [
    "4. Compute metrics based on extracted data.\n",
    "\n",
    "Now write additional code to take the set of variables you just extracted, and calculating the\n",
    "necessary metrics (averages, etc) from them."
   ]
  },
  {
   "cell_type": "markdown",
   "id": "a609b152-a94a-4c97-a4a7-08ef118b1bdd",
   "metadata": {},
   "source": [
    "## Visualizations"
   ]
  },
  {
   "cell_type": "markdown",
   "id": "1a2bd07d-a9fc-4b8a-b0d3-6e271b5994ca",
   "metadata": {},
   "source": [
    "5. Create visualizations of climate change impacts.\n",
    "\n",
    "Make some plots showing your metrics and how they change as a function of time!"
   ]
  },
  {
   "cell_type": "markdown",
   "id": "9b24f879-e180-4845-ae0a-3f4e8d6b0878",
   "metadata": {},
   "source": [
    "## Conclusions"
   ]
  },
  {
   "cell_type": "markdown",
   "id": "be51bce2-854e-4423-9fdc-371c620572f9",
   "metadata": {},
   "source": [
    "6. Interpret and contextualize your results.\n",
    "\n",
    "Finally, wrap it all up with a couple of paragraphs discussing your results and what you think\n",
    "their implications might be for your region. For instance: what populations or ecosystems\n",
    "might be impacted? How confident are you that the future changes are different from the\n",
    "historical climate? Is there anything else you’re excited to talk about?"
   ]
  }
 ],
 "metadata": {
  "kernelspec": {
   "display_name": "Anaconda 3 (EDS 296)",
   "language": "python",
   "name": "eds296-stevenson"
  },
  "language_info": {
   "codemirror_mode": {
    "name": "ipython",
    "version": 3
   },
   "file_extension": ".py",
   "mimetype": "text/x-python",
   "name": "python",
   "nbconvert_exporter": "python",
   "pygments_lexer": "ipython3",
   "version": "3.8.18"
  }
 },
 "nbformat": 4,
 "nbformat_minor": 5
}
